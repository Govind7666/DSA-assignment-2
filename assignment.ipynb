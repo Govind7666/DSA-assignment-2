{
  "nbformat": 4,
  "nbformat_minor": 0,
  "metadata": {
    "colab": {
      "provenance": []
    },
    "kernelspec": {
      "name": "python3",
      "display_name": "Python 3"
    },
    "language_info": {
      "name": "python"
    }
  },
  "cells": [
    {
      "cell_type": "code",
      "source": [
        "# calculator grade for 5 subjects\n",
        "marks={95,80,95,90,80}\n",
        "def calculator_grade(marks):\n",
        "    average = sum(marks)/len(marks)\n",
        "    if average >= 90:\n",
        "        print( 'grade = A')\n",
        "    elif average >= 80:\n",
        "         print('grade = B')\n",
        "    elif average >= 70:\n",
        "         print('grade = C')\n",
        "    elif average >= 60:\n",
        "         print('grade = D')\n",
        "    else:\n",
        "         print('grade = F')\n",
        "calculator_grade(marks)\n",
        "\n",
        "\n",
        "\n",
        "\n"
      ],
      "metadata": {
        "colab": {
          "base_uri": "https://localhost:8080/"
        },
        "id": "dJSMDP3IDP2H",
        "outputId": "57e154c9-ab18-4ecb-86f1-8123661f2456"
      },
      "execution_count": null,
      "outputs": [
        {
          "output_type": "stream",
          "name": "stdout",
          "text": [
            "grade = B\n"
          ]
        }
      ]
    },
    {
      "cell_type": "code",
      "source": [
        "price_list={'curry powder':35,'soda':20,'eggs':35,'mixed jam':40}\n",
        "\n",
        "def calculator_bill():\n",
        "    total_bill=0\n",
        "    while True:\n",
        "       item=input('enter the item').lower()\n",
        "       if item=='done':\n",
        "          break\n",
        "       if item in price_list:\n",
        "           quantity = int(input(f'enter the qunatity {item}:'))\n",
        "           total_bill += price_list[item] * quantity\n",
        "       else:\n",
        "         print(f'sorry,{item} is not avilable' )\n",
        "    print(f'total bill is:{total_bill}')\n",
        "\n",
        "calculator_bill()\n"
      ],
      "metadata": {
        "colab": {
          "base_uri": "https://localhost:8080/"
        },
        "id": "Xen3g3n8MqyK",
        "outputId": "0bcfa901-0f17-40bf-bf5c-3989a6a1ac0f"
      },
      "execution_count": null,
      "outputs": [
        {
          "output_type": "stream",
          "name": "stdout",
          "text": [
            "enter the itemmango\n",
            "sorry,mango is not avilable\n",
            "enter the itemsoda\n",
            "enter the qunatity soda:5\n",
            "enter the itemdone\n",
            "total bill is:100\n"
          ]
        }
      ]
    },
    {
      "cell_type": "code",
      "source": [
        "available_seats={1,2,4,5,6,7,8,9,10,12,15,16,18,19,20,23,25,29}\n",
        "\n",
        "def book_seat():\n",
        "    while True:\n",
        "        print(f'available seats:{available_seats}')\n",
        "        seat=input('enter the seat no. you like to book:')\n",
        "        if seat.lower()==\"done\":\n",
        "            break\n",
        "        elif seat.isdigit()and int(seat) in available_seats:\n",
        "            available_seats.remove(int(seat))\n",
        "            print(f'seat{seat} is booked succesfully')\n",
        "        else:\n",
        "           print(f'seat{seat} is not available')\n",
        "book_seat()"
      ],
      "metadata": {
        "colab": {
          "base_uri": "https://localhost:8080/"
        },
        "id": "rJjZpXjSWXD6",
        "outputId": "1982b3e3-3acd-46fa-a6c9-b2c3232d1ce9"
      },
      "execution_count": null,
      "outputs": [
        {
          "name": "stdout",
          "output_type": "stream",
          "text": [
            "available seats:{1, 2, 4, 5, 6, 7, 8, 9, 10, 12, 15, 16, 18, 19, 20, 23, 25, 29}\n",
            "enter the seat no. you like to book:5\n",
            "seat5 is booked succesfully\n",
            "available seats:{1, 2, 4, 6, 7, 8, 9, 10, 12, 15, 16, 18, 19, 20, 23, 25, 29}\n",
            "enter the seat no. you like to book:3\n",
            "seat3 is not available\n",
            "available seats:{1, 2, 4, 6, 7, 8, 9, 10, 12, 15, 16, 18, 19, 20, 23, 25, 29}\n",
            "enter the seat no. you like to book:done\n"
          ]
        }
      ]
    }
  ]
}